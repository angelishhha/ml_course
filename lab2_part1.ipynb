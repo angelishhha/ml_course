{
  "nbformat": 4,
  "nbformat_minor": 0,
  "metadata": {
    "colab": {
      "name": "Untitled5.ipynb",
      "version": "0.3.2",
      "provenance": [],
      "include_colab_link": true
    },
    "kernelspec": {
      "name": "python3",
      "display_name": "Python 3"
    }
  },
  "cells": [
    {
      "cell_type": "markdown",
      "metadata": {
        "id": "view-in-github",
        "colab_type": "text"
      },
      "source": [
        "<a href=\"https://colab.research.google.com/github/angelishhha/ml_course/blob/master/lab2_part1.ipynb\" target=\"_parent\"><img src=\"https://colab.research.google.com/assets/colab-badge.svg\" alt=\"Open In Colab\"/></a>"
      ]
    },
    {
      "metadata": {
        "id": "XuXdObRCNpbN",
        "colab_type": "code",
        "colab": {}
      },
      "cell_type": "code",
      "source": [
        "import numpy as np\n",
        "import pandas as pd\n",
        "%matplotlib inline\n",
        "import matplotlib.pyplot as plt\n",
        "import seaborn as sns\n",
        "import warnings\n",
        "warnings.filterwarnings('ignore')"
      ],
      "execution_count": 0,
      "outputs": []
    },
    {
      "metadata": {
        "id": "iwhEDY1hOTUD",
        "colab_type": "code",
        "outputId": "f1425911-45d2-431f-8b1f-60b82c130b3d",
        "colab": {
          "base_uri": "https://localhost:8080/",
          "height": 395
        }
      },
      "cell_type": "code",
      "source": [
        "data = pd.read_csv('adults.data.csv')\n",
        "data.head()"
      ],
      "execution_count": 56,
      "outputs": [
        {
          "output_type": "execute_result",
          "data": {
            "text/html": [
              "<div>\n",
              "<style scoped>\n",
              "    .dataframe tbody tr th:only-of-type {\n",
              "        vertical-align: middle;\n",
              "    }\n",
              "\n",
              "    .dataframe tbody tr th {\n",
              "        vertical-align: top;\n",
              "    }\n",
              "\n",
              "    .dataframe thead th {\n",
              "        text-align: right;\n",
              "    }\n",
              "</style>\n",
              "<table border=\"1\" class=\"dataframe\">\n",
              "  <thead>\n",
              "    <tr style=\"text-align: right;\">\n",
              "      <th></th>\n",
              "      <th>age</th>\n",
              "      <th>workclass</th>\n",
              "      <th>fnlwgt</th>\n",
              "      <th>education</th>\n",
              "      <th>education-num</th>\n",
              "      <th>marital-status</th>\n",
              "      <th>occupation</th>\n",
              "      <th>relationship</th>\n",
              "      <th>race</th>\n",
              "      <th>sex</th>\n",
              "      <th>capital-gain</th>\n",
              "      <th>capital-loss</th>\n",
              "      <th>hours-per-week</th>\n",
              "      <th>native-country</th>\n",
              "      <th>salary</th>\n",
              "    </tr>\n",
              "  </thead>\n",
              "  <tbody>\n",
              "    <tr>\n",
              "      <th>0</th>\n",
              "      <td>39</td>\n",
              "      <td>State-gov</td>\n",
              "      <td>77516</td>\n",
              "      <td>Bachelors</td>\n",
              "      <td>13</td>\n",
              "      <td>Never-married</td>\n",
              "      <td>Adm-clerical</td>\n",
              "      <td>Not-in-family</td>\n",
              "      <td>White</td>\n",
              "      <td>Male</td>\n",
              "      <td>2174</td>\n",
              "      <td>0</td>\n",
              "      <td>40</td>\n",
              "      <td>United-States</td>\n",
              "      <td>&lt;=50K</td>\n",
              "    </tr>\n",
              "    <tr>\n",
              "      <th>1</th>\n",
              "      <td>50</td>\n",
              "      <td>Self-emp-not-inc</td>\n",
              "      <td>83311</td>\n",
              "      <td>Bachelors</td>\n",
              "      <td>13</td>\n",
              "      <td>Married-civ-spouse</td>\n",
              "      <td>Exec-managerial</td>\n",
              "      <td>Husband</td>\n",
              "      <td>White</td>\n",
              "      <td>Male</td>\n",
              "      <td>0</td>\n",
              "      <td>0</td>\n",
              "      <td>13</td>\n",
              "      <td>United-States</td>\n",
              "      <td>&lt;=50K</td>\n",
              "    </tr>\n",
              "    <tr>\n",
              "      <th>2</th>\n",
              "      <td>38</td>\n",
              "      <td>Private</td>\n",
              "      <td>215646</td>\n",
              "      <td>HS-grad</td>\n",
              "      <td>9</td>\n",
              "      <td>Divorced</td>\n",
              "      <td>Handlers-cleaners</td>\n",
              "      <td>Not-in-family</td>\n",
              "      <td>White</td>\n",
              "      <td>Male</td>\n",
              "      <td>0</td>\n",
              "      <td>0</td>\n",
              "      <td>40</td>\n",
              "      <td>United-States</td>\n",
              "      <td>&lt;=50K</td>\n",
              "    </tr>\n",
              "    <tr>\n",
              "      <th>3</th>\n",
              "      <td>53</td>\n",
              "      <td>Private</td>\n",
              "      <td>234721</td>\n",
              "      <td>11th</td>\n",
              "      <td>7</td>\n",
              "      <td>Married-civ-spouse</td>\n",
              "      <td>Handlers-cleaners</td>\n",
              "      <td>Husband</td>\n",
              "      <td>Black</td>\n",
              "      <td>Male</td>\n",
              "      <td>0</td>\n",
              "      <td>0</td>\n",
              "      <td>40</td>\n",
              "      <td>United-States</td>\n",
              "      <td>&lt;=50K</td>\n",
              "    </tr>\n",
              "    <tr>\n",
              "      <th>4</th>\n",
              "      <td>28</td>\n",
              "      <td>Private</td>\n",
              "      <td>338409</td>\n",
              "      <td>Bachelors</td>\n",
              "      <td>13</td>\n",
              "      <td>Married-civ-spouse</td>\n",
              "      <td>Prof-specialty</td>\n",
              "      <td>Wife</td>\n",
              "      <td>Black</td>\n",
              "      <td>Female</td>\n",
              "      <td>0</td>\n",
              "      <td>0</td>\n",
              "      <td>40</td>\n",
              "      <td>Cuba</td>\n",
              "      <td>&lt;=50K</td>\n",
              "    </tr>\n",
              "  </tbody>\n",
              "</table>\n",
              "</div>"
            ],
            "text/plain": [
              "   age          workclass  fnlwgt   education  education-num  \\\n",
              "0   39          State-gov   77516   Bachelors             13   \n",
              "1   50   Self-emp-not-inc   83311   Bachelors             13   \n",
              "2   38            Private  215646     HS-grad              9   \n",
              "3   53            Private  234721        11th              7   \n",
              "4   28            Private  338409   Bachelors             13   \n",
              "\n",
              "        marital-status          occupation    relationship    race      sex  \\\n",
              "0        Never-married        Adm-clerical   Not-in-family   White     Male   \n",
              "1   Married-civ-spouse     Exec-managerial         Husband   White     Male   \n",
              "2             Divorced   Handlers-cleaners   Not-in-family   White     Male   \n",
              "3   Married-civ-spouse   Handlers-cleaners         Husband   Black     Male   \n",
              "4   Married-civ-spouse      Prof-specialty            Wife   Black   Female   \n",
              "\n",
              "   capital-gain  capital-loss  hours-per-week  native-country  salary  \n",
              "0          2174             0              40   United-States   <=50K  \n",
              "1             0             0              13   United-States   <=50K  \n",
              "2             0             0              40   United-States   <=50K  \n",
              "3             0             0              40   United-States   <=50K  \n",
              "4             0             0              40            Cuba   <=50K  "
            ]
          },
          "metadata": {
            "tags": []
          },
          "execution_count": 56
        }
      ]
    },
    {
      "metadata": {
        "id": "q5Tpd2FFHLVg",
        "colab_type": "text"
      },
      "cell_type": "markdown",
      "source": [
        "How many name and women are represented in this dataset?"
      ]
    },
    {
      "metadata": {
        "id": "F4Tx-hjQOdGi",
        "colab_type": "code",
        "outputId": "5b81a200-9e04-4827-d8e2-3494f97b62f9",
        "colab": {
          "base_uri": "https://localhost:8080/",
          "height": 69
        }
      },
      "cell_type": "code",
      "source": [
        "data['sex'].value_counts()"
      ],
      "execution_count": 58,
      "outputs": [
        {
          "output_type": "execute_result",
          "data": {
            "text/plain": [
              " Male      21790\n",
              " Female    10771\n",
              "Name: sex, dtype: int64"
            ]
          },
          "metadata": {
            "tags": []
          },
          "execution_count": 58
        }
      ]
    },
    {
      "metadata": {
        "id": "TsTp3ILjHCr5",
        "colab_type": "text"
      },
      "cell_type": "markdown",
      "source": [
        "What is the average age of women?"
      ]
    },
    {
      "metadata": {
        "id": "N7-zhhfAenZY",
        "colab_type": "code",
        "colab": {
          "base_uri": "https://localhost:8080/",
          "height": 35
        },
        "outputId": "52803a5d-4969-410d-df4a-6732fda1c04b"
      },
      "cell_type": "code",
      "source": [
        "data.loc[data['sex'] == ' Female', 'age'].mean()"
      ],
      "execution_count": 61,
      "outputs": [
        {
          "output_type": "execute_result",
          "data": {
            "text/plain": [
              "36.85823043357163"
            ]
          },
          "metadata": {
            "tags": []
          },
          "execution_count": 61
        }
      ]
    },
    {
      "metadata": {
        "id": "IE2oxduGt83N",
        "colab_type": "text"
      },
      "cell_type": "markdown",
      "source": [
        "What is the percentage of German citizens(native-country features)?\n"
      ]
    },
    {
      "metadata": {
        "id": "i4reS4yfuMxe",
        "colab_type": "code",
        "colab": {
          "base_uri": "https://localhost:8080/",
          "height": 35
        },
        "outputId": "71d3c569-9a95-441e-e1cd-16a6fa9cc92b"
      },
      "cell_type": "code",
      "source": [
        "float((data['native-country'] == ' Germany').sum())/data.shape[0]"
      ],
      "execution_count": 62,
      "outputs": [
        {
          "output_type": "execute_result",
          "data": {
            "text/plain": [
              "0.004207487485028101"
            ]
          },
          "metadata": {
            "tags": []
          },
          "execution_count": 62
        }
      ]
    },
    {
      "metadata": {
        "id": "LhAVem8sufYV",
        "colab_type": "text"
      },
      "cell_type": "markdown",
      "source": [
        "What are mean value and standard deviation of the age of those who receive more then 50K per year (salary feature) and those who receive less than 50K per year ?\n"
      ]
    },
    {
      "metadata": {
        "id": "A1O7Nrluu3UA",
        "colab_type": "code",
        "colab": {
          "base_uri": "https://localhost:8080/",
          "height": 35
        },
        "outputId": "c1f53112-3f3b-447d-b0a9-818966322f6f"
      },
      "cell_type": "code",
      "source": [
        "ages1 = data.loc[data['salary'] == ' >50K', 'age']\n",
        "ages2 = data.loc[data['salary'] == ' <=50K', 'age']\n",
        "print(\"The average age of the rich: {0} +- {1} years, poor - {2} +- {3} years.\". format(\n",
        "  round(ages1.mean()), round(ages1.std(), 1),\n",
        "  round(ages2.mean()), round(ages2.std(), 1)))"
      ],
      "execution_count": 63,
      "outputs": [
        {
          "output_type": "stream",
          "text": [
            "The average age of the rich: 44 +- 10.5 years, poor - 37 +- 14.0 years.\n"
          ],
          "name": "stdout"
        }
      ]
    },
    {
      "metadata": {
        "id": "WeOm0Yer7hXd",
        "colab_type": "text"
      },
      "cell_type": "markdown",
      "source": [
        "Is the true that people who earn more than 50K have at least high school education?"
      ]
    },
    {
      "metadata": {
        "id": "UkoqkA0J7vb4",
        "colab_type": "code",
        "colab": {
          "base_uri": "https://localhost:8080/",
          "height": 87
        },
        "outputId": "de00d2b7-ddc8-4bb2-c076-db0fddfd68de"
      },
      "cell_type": "code",
      "source": [
        "data.loc[data['salary'] == ' >50K', 'education'].unique()"
      ],
      "execution_count": 64,
      "outputs": [
        {
          "output_type": "execute_result",
          "data": {
            "text/plain": [
              "array([' HS-grad', ' Masters', ' Bachelors', ' Some-college',\n",
              "       ' Assoc-voc', ' Doctorate', ' Prof-school', ' Assoc-acdm',\n",
              "       ' 7th-8th', ' 12th', ' 10th', ' 11th', ' 9th', ' 5th-6th',\n",
              "       ' 1st-4th'], dtype=object)"
            ]
          },
          "metadata": {
            "tags": []
          },
          "execution_count": 64
        }
      ]
    },
    {
      "metadata": {
        "id": "ueVKvD5t7-_4",
        "colab_type": "text"
      },
      "cell_type": "markdown",
      "source": [
        "Display age statistics for each race (race feature) and each gender (sex feature)."
      ]
    },
    {
      "metadata": {
        "id": "WVBJPUeO7aYb",
        "colab_type": "code",
        "colab": {
          "base_uri": "https://localhost:8080/",
          "height": 1751
        },
        "outputId": "a58e35ea-1a87-401f-de1a-20a4c93ea1ad"
      },
      "cell_type": "code",
      "source": [
        "for (race, sex), sub_df in data.groupby(['race', 'sex']):\n",
        "  print(\"Race: {0}, sex: {1}\".format(race, sex))\n",
        "  print(sub_df['age'].describe())"
      ],
      "execution_count": 71,
      "outputs": [
        {
          "output_type": "stream",
          "text": [
            "Race:  Amer-Indian-Eskimo, sex:  Female\n",
            "count    119.000000\n",
            "mean      37.117647\n",
            "std       13.114991\n",
            "min       17.000000\n",
            "25%       27.000000\n",
            "50%       36.000000\n",
            "75%       46.000000\n",
            "max       80.000000\n",
            "Name: age, dtype: float64\n",
            "Race:  Amer-Indian-Eskimo, sex:  Male\n",
            "count    192.000000\n",
            "mean      37.208333\n",
            "std       12.049563\n",
            "min       17.000000\n",
            "25%       28.000000\n",
            "50%       35.000000\n",
            "75%       45.000000\n",
            "max       82.000000\n",
            "Name: age, dtype: float64\n",
            "Race:  Asian-Pac-Islander, sex:  Female\n",
            "count    346.000000\n",
            "mean      35.089595\n",
            "std       12.300845\n",
            "min       17.000000\n",
            "25%       25.000000\n",
            "50%       33.000000\n",
            "75%       43.750000\n",
            "max       75.000000\n",
            "Name: age, dtype: float64\n",
            "Race:  Asian-Pac-Islander, sex:  Male\n",
            "count    693.000000\n",
            "mean      39.073593\n",
            "std       12.883944\n",
            "min       18.000000\n",
            "25%       29.000000\n",
            "50%       37.000000\n",
            "75%       46.000000\n",
            "max       90.000000\n",
            "Name: age, dtype: float64\n",
            "Race:  Black, sex:  Female\n",
            "count    1555.000000\n",
            "mean       37.854019\n",
            "std        12.637197\n",
            "min        17.000000\n",
            "25%        28.000000\n",
            "50%        37.000000\n",
            "75%        46.000000\n",
            "max        90.000000\n",
            "Name: age, dtype: float64\n",
            "Race:  Black, sex:  Male\n",
            "count    1569.000000\n",
            "mean       37.682600\n",
            "std        12.882612\n",
            "min        17.000000\n",
            "25%        27.000000\n",
            "50%        36.000000\n",
            "75%        46.000000\n",
            "max        90.000000\n",
            "Name: age, dtype: float64\n",
            "Race:  Other, sex:  Female\n",
            "count    109.000000\n",
            "mean      31.678899\n",
            "std       11.631599\n",
            "min       17.000000\n",
            "25%       23.000000\n",
            "50%       29.000000\n",
            "75%       39.000000\n",
            "max       74.000000\n",
            "Name: age, dtype: float64\n",
            "Race:  Other, sex:  Male\n",
            "count    162.000000\n",
            "mean      34.654321\n",
            "std       11.355531\n",
            "min       17.000000\n",
            "25%       26.000000\n",
            "50%       32.000000\n",
            "75%       42.000000\n",
            "max       77.000000\n",
            "Name: age, dtype: float64\n",
            "Race:  White, sex:  Female\n",
            "count    8642.000000\n",
            "mean       36.811618\n",
            "std        14.329093\n",
            "min        17.000000\n",
            "25%        25.000000\n",
            "50%        35.000000\n",
            "75%        46.000000\n",
            "max        90.000000\n",
            "Name: age, dtype: float64\n",
            "Race:  White, sex:  Male\n",
            "count    19174.000000\n",
            "mean        39.652498\n",
            "std         13.436029\n",
            "min         17.000000\n",
            "25%         29.000000\n",
            "50%         38.000000\n",
            "75%         49.000000\n",
            "max         90.000000\n",
            "Name: age, dtype: float64\n"
          ],
          "name": "stdout"
        }
      ]
    },
    {
      "metadata": {
        "id": "LKuSScmM_SRW",
        "colab_type": "text"
      },
      "cell_type": "markdown",
      "source": [
        "Among whom is the proportion of those who earn a lot (>50K) greater: married or single men?"
      ]
    },
    {
      "metadata": {
        "id": "2gqvVLge_hlv",
        "colab_type": "code",
        "colab": {
          "base_uri": "https://localhost:8080/",
          "height": 69
        },
        "outputId": "8bd16943-4bf5-427d-d75b-5580b61b034d"
      },
      "cell_type": "code",
      "source": [
        "data.loc[(data['sex'] == ' Male') & \n",
        "        (data['marital-status'].isin([' Never-married' ,\n",
        "                                      ' Separeted' ,\n",
        "                                      ' Divorced' ,\n",
        "                                      ' Widowed'])), 'salary'].value_counts() "
      ],
      "execution_count": 76,
      "outputs": [
        {
          "output_type": "execute_result",
          "data": {
            "text/plain": [
              " <=50K    7207\n",
              " >50K      648\n",
              "Name: salary, dtype: int64"
            ]
          },
          "metadata": {
            "tags": []
          },
          "execution_count": 76
        }
      ]
    },
    {
      "metadata": {
        "id": "kPj8JRwjAuqt",
        "colab_type": "code",
        "colab": {
          "base_uri": "https://localhost:8080/",
          "height": 69
        },
        "outputId": "0ece3ab3-5778-4179-92a3-9659e5f43b99"
      },
      "cell_type": "code",
      "source": [
        "data.loc[(data['sex'] == ' Male') & \n",
        "        (data['marital-status'].str.startswith(' Married')), 'salary'].value_counts()"
      ],
      "execution_count": 77,
      "outputs": [
        {
          "output_type": "execute_result",
          "data": {
            "text/plain": [
              " <=50K    7576\n",
              " >50K     5965\n",
              "Name: salary, dtype: int64"
            ]
          },
          "metadata": {
            "tags": []
          },
          "execution_count": 77
        }
      ]
    },
    {
      "metadata": {
        "id": "kJHa1aqQBPu_",
        "colab_type": "code",
        "colab": {
          "base_uri": "https://localhost:8080/",
          "height": 156
        },
        "outputId": "c7f94b3b-b685-4442-dcb5-31ec572fd466"
      },
      "cell_type": "code",
      "source": [
        "data['marital-status'].value_counts()"
      ],
      "execution_count": 78,
      "outputs": [
        {
          "output_type": "execute_result",
          "data": {
            "text/plain": [
              " Married-civ-spouse       14976\n",
              " Never-married            10683\n",
              " Divorced                  4443\n",
              " Separated                 1025\n",
              " Widowed                    993\n",
              " Married-spouse-absent      418\n",
              " Married-AF-spouse           23\n",
              "Name: marital-status, dtype: int64"
            ]
          },
          "metadata": {
            "tags": []
          },
          "execution_count": 78
        }
      ]
    },
    {
      "metadata": {
        "id": "qdw6RJVcBbAY",
        "colab_type": "text"
      },
      "cell_type": "markdown",
      "source": [
        "What is the MAX number of hours a person works per week? How many people work such a number of hours, and what is the percentage of those who earn a lot(>50K) among them?"
      ]
    },
    {
      "metadata": {
        "id": "jAAOIywUB3l9",
        "colab_type": "code",
        "colab": {
          "base_uri": "https://localhost:8080/",
          "height": 69
        },
        "outputId": "d34aabc1-c488-4e9a-e696-2b0528b76c2f"
      },
      "cell_type": "code",
      "source": [
        "max_load = data['hours-per-week'].max()\n",
        "print(\"Max time - {0} hours./week.\".format(max_load))\n",
        "\n",
        "num_workaholics = data[data['hours-per-week'] == max_load].shape[0]\n",
        "print(\"Total number os such hard workers {0}\".format(num_workaholics))\n",
        "\n",
        "rich_share = float(data[(data['hours-per-week'] == max_load) &\n",
        "                        (data['salary'] == ' >50K')].shape[0]) / num_workaholics\n",
        "print(\"Percentage of rich among them {0}%\".format(int(100 * rich_share)))"
      ],
      "execution_count": 81,
      "outputs": [
        {
          "output_type": "stream",
          "text": [
            "Max time - 99 hours./week.\n",
            "Total number os such hard workers 85\n",
            "Percentage of rich among them 29%\n"
          ],
          "name": "stdout"
        }
      ]
    },
    {
      "metadata": {
        "id": "sBFbIojNGSGz",
        "colab_type": "text"
      },
      "cell_type": "markdown",
      "source": [
        "Count the average time of work those who earning a little and a lot for each country. What will these be for Japan?\n"
      ]
    },
    {
      "metadata": {
        "id": "bhMeZFwvGljr",
        "colab_type": "code",
        "colab": {
          "base_uri": "https://localhost:8080/",
          "height": 1439
        },
        "outputId": "83d49063-ee0f-4dc8-9b7c-606df37c364b"
      },
      "cell_type": "code",
      "source": [
        "for(country, salary), sub_df in data.groupby(['native-country', 'salary']):\n",
        "  print(country, salary, round(sub_df['hours-per-week'].mean(), 2))"
      ],
      "execution_count": 82,
      "outputs": [
        {
          "output_type": "stream",
          "text": [
            " ?  <=50K 40.16\n",
            " ?  >50K 45.55\n",
            " Cambodia  <=50K 41.42\n",
            " Cambodia  >50K 40.0\n",
            " Canada  <=50K 37.91\n",
            " Canada  >50K 45.64\n",
            " China  <=50K 37.38\n",
            " China  >50K 38.9\n",
            " Columbia  <=50K 38.68\n",
            " Columbia  >50K 50.0\n",
            " Cuba  <=50K 37.99\n",
            " Cuba  >50K 42.44\n",
            " Dominican-Republic  <=50K 42.34\n",
            " Dominican-Republic  >50K 47.0\n",
            " Ecuador  <=50K 38.04\n",
            " Ecuador  >50K 48.75\n",
            " El-Salvador  <=50K 36.03\n",
            " El-Salvador  >50K 45.0\n",
            " England  <=50K 40.48\n",
            " England  >50K 44.53\n",
            " France  <=50K 41.06\n",
            " France  >50K 50.75\n",
            " Germany  <=50K 39.14\n",
            " Germany  >50K 44.98\n",
            " Greece  <=50K 41.81\n",
            " Greece  >50K 50.62\n",
            " Guatemala  <=50K 39.36\n",
            " Guatemala  >50K 36.67\n",
            " Haiti  <=50K 36.33\n",
            " Haiti  >50K 42.75\n",
            " Holand-Netherlands  <=50K 40.0\n",
            " Honduras  <=50K 34.33\n",
            " Honduras  >50K 60.0\n",
            " Hong  <=50K 39.14\n",
            " Hong  >50K 45.0\n",
            " Hungary  <=50K 31.3\n",
            " Hungary  >50K 50.0\n",
            " India  <=50K 38.23\n",
            " India  >50K 46.48\n",
            " Iran  <=50K 41.44\n",
            " Iran  >50K 47.5\n",
            " Ireland  <=50K 40.95\n",
            " Ireland  >50K 48.0\n",
            " Italy  <=50K 39.62\n",
            " Italy  >50K 45.4\n",
            " Jamaica  <=50K 38.24\n",
            " Jamaica  >50K 41.1\n",
            " Japan  <=50K 41.0\n",
            " Japan  >50K 47.96\n",
            " Laos  <=50K 40.38\n",
            " Laos  >50K 40.0\n",
            " Mexico  <=50K 40.0\n",
            " Mexico  >50K 46.58\n",
            " Nicaragua  <=50K 36.09\n",
            " Nicaragua  >50K 37.5\n",
            " Outlying-US(Guam-USVI-etc)  <=50K 41.86\n",
            " Peru  <=50K 35.07\n",
            " Peru  >50K 40.0\n",
            " Philippines  <=50K 38.07\n",
            " Philippines  >50K 43.03\n",
            " Poland  <=50K 38.17\n",
            " Poland  >50K 39.0\n",
            " Portugal  <=50K 41.94\n",
            " Portugal  >50K 41.5\n",
            " Puerto-Rico  <=50K 38.47\n",
            " Puerto-Rico  >50K 39.42\n",
            " Scotland  <=50K 39.44\n",
            " Scotland  >50K 46.67\n",
            " South  <=50K 40.16\n",
            " South  >50K 51.44\n",
            " Taiwan  <=50K 33.77\n",
            " Taiwan  >50K 46.8\n",
            " Thailand  <=50K 42.87\n",
            " Thailand  >50K 58.33\n",
            " Trinadad&Tobago  <=50K 37.06\n",
            " Trinadad&Tobago  >50K 40.0\n",
            " United-States  <=50K 38.8\n",
            " United-States  >50K 45.51\n",
            " Vietnam  <=50K 37.19\n",
            " Vietnam  >50K 39.2\n",
            " Yugoslavia  <=50K 41.6\n",
            " Yugoslavia  >50K 49.5\n"
          ],
          "name": "stdout"
        }
      ]
    }
  ]
}